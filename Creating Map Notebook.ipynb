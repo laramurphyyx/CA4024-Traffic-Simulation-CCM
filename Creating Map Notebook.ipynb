{
 "cells": [
  {
   "cell_type": "code",
   "execution_count": 28,
   "metadata": {},
   "outputs": [],
   "source": [
    "import random\n",
    "import numpy as np\n",
    "import pandas as pd"
   ]
  },
  {
   "cell_type": "code",
   "execution_count": 17,
   "metadata": {},
   "outputs": [],
   "source": [
    "horizontal_roads = []\n",
    "vertical_roads = []"
   ]
  },
  {
   "cell_type": "code",
   "execution_count": 18,
   "metadata": {},
   "outputs": [],
   "source": [
    "# Creating the coordinates for the centred horizontal roads and the vertical roads\n",
    "\n",
    "horizontal_roads.append(random.randint(5, 95))\n",
    "horizontal_road = random.randint(5, 95)\n",
    "while horizontal_road - horizontal_roads[0] in range(-5,5):\n",
    "    horizontal_road = random.randint(5, 95)\n",
    "horizontal_roads.append(horizontal_road)\n",
    "\n",
    "vertical_roads.append(random.randint(5, 95))\n",
    "vertical_road = random.randint(5, 95)\n",
    "while vertical_road - vertical_roads[0] in range(-5,5):\n",
    "    vertical_road = random.randint(5, 95)\n",
    "vertical_roads.append(vertical_road)"
   ]
  },
  {
   "cell_type": "markdown",
   "metadata": {},
   "source": [
    "# Identifying Horizontal Roads, Vertical Roads and Junctions"
   ]
  },
  {
   "cell_type": "code",
   "execution_count": 39,
   "metadata": {},
   "outputs": [],
   "source": [
    "# Creating an initial matrix with 0s as empty\n",
    "\n",
    "# Horizontal Roads are represented by a 1\n",
    "# Vertical Roads are represented by a 2\n",
    "# Junctions/Corners are represented by a 3\n",
    "\n",
    "road_map = np.zeros((100,100))\n",
    "\n",
    "for x_coord in horizontal_roads:\n",
    "    for y_coord in range(0,100):\n",
    "        road_map[x_coord][y_coord] += 1\n",
    "        road_map[x_coord + 1][y_coord] += 1\n",
    "\n",
    "for y_coord in vertical_roads:\n",
    "    for x_coord in range(0,100):\n",
    "        road_map[x_coord][y_coord] += 2\n",
    "        road_map[x_coord][y_coord + 1] += 2\n",
    "\n",
    "# Adding top and bottom horizontal roads\n",
    "left_vertical_road = min(vertical_roads)\n",
    "right_vertical_road = max(vertical_roads) + 1\n",
    "for x_coord in [0, 98]:\n",
    "    for y_coord in range(0,100):\n",
    "        if y_coord >= left_vertical_road and y_coord <= right_vertical_road:\n",
    "            road_map[x_coord][y_coord] += 1\n",
    "            road_map[x_coord + 1][y_coord] += 1\n",
    "\n",
    "# Adding left and right vertical roads\n",
    "top_horizontal_road = min(horizontal_roads)\n",
    "bottom_horizontal_road = max(horizontal_roads) + 1\n",
    "for y_coord in [0, 98]:\n",
    "    for x_coord in range(0,100):\n",
    "        if x_coord >= top_horizontal_road and x_coord <= bottom_horizontal_road:\n",
    "            road_map[x_coord][y_coord] += 2\n",
    "            road_map[x_coord][y_coord + 1] += 2"
   ]
  },
  {
   "cell_type": "code",
   "execution_count": 23,
   "metadata": {},
   "outputs": [
    {
     "data": {
      "text/plain": [
       "array([1., 1., 1., 1., 1., 1., 1., 1., 1., 1., 1., 1., 1., 1., 1., 1., 1.,\n",
       "       1., 1., 1., 1., 1., 1., 1., 1., 1., 1., 3., 3., 1., 1., 1., 1., 1.,\n",
       "       1., 1., 1., 1., 1., 1., 1., 1., 1., 1., 1., 1., 1., 1., 1., 1., 1.,\n",
       "       1., 1., 1., 1., 1., 1., 1., 1., 1., 1., 1., 1., 1., 1., 1., 1., 3.,\n",
       "       3., 1., 1., 1., 1., 1., 1., 1., 1., 1., 1., 1., 1., 1., 1., 1., 1.,\n",
       "       1., 1., 1., 1., 1., 1., 1., 1., 1., 1., 1., 1., 1., 1., 1.])"
      ]
     },
     "execution_count": 23,
     "metadata": {},
     "output_type": "execute_result"
    }
   ],
   "source": [
    "road_map[-5]"
   ]
  },
  {
   "cell_type": "markdown",
   "metadata": {},
   "source": [
    "# Adding Traffic Lights to Intersections"
   ]
  },
  {
   "cell_type": "code",
   "execution_count": 13,
   "metadata": {
    "collapsed": true
   },
   "outputs": [
    {
     "name": "stdout",
     "output_type": "stream",
     "text": [
      "0 1\n",
      "1 2\n",
      "2 3\n",
      "3 4\n",
      "4 5\n",
      "5 6\n",
      "6 7\n",
      "7 8\n",
      "8 9\n",
      "9 10\n",
      "10 11\n",
      "11 12\n",
      "12 13\n",
      "13 14\n",
      "14 15\n",
      "15 16\n",
      "16 17\n",
      "17 18\n",
      "18 19\n",
      "19 20\n",
      "20 21\n",
      "21 22\n",
      "22 23\n",
      "23 24\n",
      "24 25\n",
      "25 26\n",
      "26 27\n",
      "27 28\n",
      "28 29\n",
      "29 30\n",
      "30 31\n",
      "31 32\n",
      "32 33\n",
      "33 34\n",
      "34 35\n",
      "35 36\n",
      "36 37\n",
      "37 38\n",
      "38 39\n",
      "39 40\n",
      "40 41\n",
      "41 42\n",
      "42 43\n",
      "43 44\n",
      "44 45\n",
      "45 46\n",
      "46 47\n",
      "47 48\n",
      "48 49\n",
      "49 50\n",
      "50 51\n",
      "51 52\n",
      "52 53\n",
      "53 54\n",
      "54 55\n",
      "55 56\n",
      "56 57\n",
      "57 58\n",
      "58 59\n",
      "59 60\n",
      "60 61\n",
      "61 62\n",
      "62 63\n",
      "63 64\n",
      "64 65\n",
      "65 66\n",
      "66 67\n",
      "67 68\n",
      "68 69\n",
      "69 70\n",
      "70 71\n",
      "71 72\n",
      "72 73\n",
      "73 74\n",
      "74 75\n",
      "75 76\n",
      "76 77\n",
      "77 78\n",
      "78 79\n",
      "79 80\n",
      "80 81\n",
      "81 82\n",
      "82 83\n",
      "83 84\n",
      "84 85\n",
      "85 86\n",
      "86 87\n",
      "87 88\n",
      "88 89\n",
      "89 90\n",
      "90 91\n",
      "91 92\n",
      "92 93\n",
      "93 94\n",
      "94 95\n",
      "95 96\n",
      "96 97\n",
      "97 98\n",
      "98 99\n"
     ]
    }
   ],
   "source": [
    "# Adding for Horizontal Roads\n",
    "\n",
    "for top_lane in range(1,99):\n",
    "    bottom_lane = top_lane + 1\n",
    "    for y in range(0,100):\n",
    "        if road_map[top_lane][y] == 3 and road_map[top_lane][y-1] == 3:\n",
    "            "
   ]
  },
  {
   "cell_type": "code",
   "execution_count": null,
   "metadata": {},
   "outputs": [],
   "source": []
  },
  {
   "cell_type": "code",
   "execution_count": 44,
   "metadata": {},
   "outputs": [],
   "source": [
    "pd.DataFrame(road_map).to_csv('road_map.csv', index=False, header=False)"
   ]
  },
  {
   "cell_type": "code",
   "execution_count": null,
   "metadata": {},
   "outputs": [],
   "source": []
  }
 ],
 "metadata": {
  "kernelspec": {
   "display_name": "Python 3",
   "language": "python",
   "name": "python3"
  },
  "language_info": {
   "codemirror_mode": {
    "name": "ipython",
    "version": 3
   },
   "file_extension": ".py",
   "mimetype": "text/x-python",
   "name": "python",
   "nbconvert_exporter": "python",
   "pygments_lexer": "ipython3",
   "version": "3.7.4"
  }
 },
 "nbformat": 4,
 "nbformat_minor": 2
}
